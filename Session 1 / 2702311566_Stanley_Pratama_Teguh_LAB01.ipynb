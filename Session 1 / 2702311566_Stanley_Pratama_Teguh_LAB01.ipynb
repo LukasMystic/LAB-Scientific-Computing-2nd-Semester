{
  "nbformat": 4,
  "nbformat_minor": 0,
  "metadata": {
    "colab": {
      "provenance": [],
      "authorship_tag": "ABX9TyOyNXE49SJ8nNUUyexXTh0v",
      "include_colab_link": true
    },
    "kernelspec": {
      "name": "python3",
      "display_name": "Python 3"
    },
    "language_info": {
      "name": "python"
    }
  },
  "cells": [
    {
      "cell_type": "markdown",
      "metadata": {
        "id": "view-in-github",
        "colab_type": "text"
      },
      "source": [
        "<a href=\"https://colab.research.google.com/github/LukasMystic/LAB-Scientific-Computing-2nd-Semester/blob/main/Session%201%20/%202702311566_Stanley_Pratama_Teguh_LAB01.ipynb\" target=\"_parent\"><img src=\"https://colab.research.google.com/assets/colab-badge.svg\" alt=\"Open In Colab\"/></a>"
      ]
    },
    {
      "cell_type": "code",
      "source": [
        "x = 1\n",
        "x"
      ],
      "metadata": {
        "colab": {
          "base_uri": "https://localhost:8080/"
        },
        "id": "Ittjzc5UkHcu",
        "outputId": "eeed38f8-078b-4255-f31f-76e5aead7d7d"
      },
      "execution_count": null,
      "outputs": [
        {
          "output_type": "execute_result",
          "data": {
            "text/plain": [
              "1"
            ]
          },
          "metadata": {},
          "execution_count": 6
        }
      ]
    },
    {
      "cell_type": "code",
      "source": [
        "x = 1\n",
        "y = x + 1\n",
        "x = 2\n",
        "y"
      ],
      "metadata": {
        "colab": {
          "base_uri": "https://localhost:8080/"
        },
        "id": "36WbWGVZkMrr",
        "outputId": "41c04863-97cc-4a37-9108-2ee65bd81822"
      },
      "execution_count": null,
      "outputs": [
        {
          "output_type": "execute_result",
          "data": {
            "text/plain": [
              "2"
            ]
          },
          "metadata": {},
          "execution_count": 7
        }
      ]
    },
    {
      "cell_type": "code",
      "source": [
        "import numpy as np\n",
        "x = np.array([1, 4, 3])\n",
        "x"
      ],
      "metadata": {
        "colab": {
          "base_uri": "https://localhost:8080/"
        },
        "id": "hgEmyjmSkYua",
        "outputId": "a0d449c5-abdf-4a8c-9a29-85d60f62f5c1"
      },
      "execution_count": null,
      "outputs": [
        {
          "output_type": "execute_result",
          "data": {
            "text/plain": [
              "array([1, 4, 3])"
            ]
          },
          "metadata": {},
          "execution_count": 1
        }
      ]
    },
    {
      "cell_type": "code",
      "source": [
        "import numpy as np\n",
        "y = np.array([[1, 4, 3], [9, 2, 7]])\n",
        "y"
      ],
      "metadata": {
        "colab": {
          "base_uri": "https://localhost:8080/"
        },
        "id": "k-L0bqlckgmX",
        "outputId": "0c88d3f7-d804-4bd6-e29f-01fd77917795"
      },
      "execution_count": null,
      "outputs": [
        {
          "output_type": "execute_result",
          "data": {
            "text/plain": [
              "array([[1, 4, 3],\n",
              "       [9, 2, 7]])"
            ]
          },
          "metadata": {},
          "execution_count": 10
        }
      ]
    },
    {
      "cell_type": "code",
      "source": [
        "def my_adder(a, b, c):\n",
        "  \"\"\"\n",
        "  function to sum the 3 numbers\n",
        "  Input: 3 numbers a, b, c\n",
        "  Output: the sum of a, b, and c\n",
        "  author:\n",
        "  date:\n",
        "  \"\"\"\n",
        "\n",
        "  out = a + b + c\n",
        "  return out"
      ],
      "metadata": {
        "id": "HTltb_AHktpl"
      },
      "execution_count": null,
      "outputs": []
    },
    {
      "cell_type": "code",
      "source": [
        "my_adder(1,2,3)"
      ],
      "metadata": {
        "colab": {
          "base_uri": "https://localhost:8080/"
        },
        "id": "LwcGnAjVk9NW",
        "outputId": "9b76011d-5107-4e12-9313-12598a742986"
      },
      "execution_count": null,
      "outputs": [
        {
          "output_type": "execute_result",
          "data": {
            "text/plain": [
              "6"
            ]
          },
          "metadata": {},
          "execution_count": 12
        }
      ]
    },
    {
      "cell_type": "code",
      "source": [
        "import numpy as np\n",
        "\n",
        "def myts(temp, desired_temp):\n",
        "  if temp < desired_temp - 5:\n",
        "    status = 'Heat'\n",
        "  elif temp > desired_temp + 5:\n",
        "    status = 'AC'\n",
        "  else:\n",
        "    status = 'off'\n",
        "  return status"
      ],
      "metadata": {
        "id": "MwtLFhrtYjvZ"
      },
      "execution_count": null,
      "outputs": []
    },
    {
      "cell_type": "code",
      "source": [
        "status = myts(65, 75)\n",
        "print(status)"
      ],
      "metadata": {
        "colab": {
          "base_uri": "https://localhost:8080/"
        },
        "id": "XTW7ptRqStSI",
        "outputId": "93e67b7d-7c3b-4905-e6fa-f01083809cb4"
      },
      "execution_count": null,
      "outputs": [
        {
          "output_type": "stream",
          "name": "stdout",
          "text": [
            "Heat\n"
          ]
        }
      ]
    },
    {
      "cell_type": "code",
      "source": [
        "status = myts(75,65)\n",
        "print(status)"
      ],
      "metadata": {
        "colab": {
          "base_uri": "https://localhost:8080/"
        },
        "id": "PDxz1kQ2VkF5",
        "outputId": "d47c94bd-6c81-4f00-eb92-35faba0072d8"
      },
      "execution_count": null,
      "outputs": [
        {
          "output_type": "stream",
          "name": "stdout",
          "text": [
            "AC\n"
          ]
        }
      ]
    },
    {
      "cell_type": "code",
      "source": [
        "status = myts (65,63)\n",
        "print(status)"
      ],
      "metadata": {
        "colab": {
          "base_uri": "https://localhost:8080/"
        },
        "id": "oFGb7IsMVuJi",
        "outputId": "3e950bc5-9831-409a-b149-251507b505cb"
      },
      "execution_count": null,
      "outputs": [
        {
          "output_type": "stream",
          "name": "stdout",
          "text": [
            "Off\n"
          ]
        }
      ]
    },
    {
      "cell_type": "code",
      "source": [
        "import numpy as np\n",
        "\n",
        "x = 3\n",
        "if x > 1 and x < 2:\n",
        "  y = 2\n",
        "elif x > 2 and x < 4:\n",
        "  y = 4\n",
        "else:\n",
        "  y = 0\n",
        "\n",
        "y"
      ],
      "metadata": {
        "colab": {
          "base_uri": "https://localhost:8080/"
        },
        "id": "H_tXkUedlEsY",
        "outputId": "cc457730-3df1-479f-af5f-8b1609bd597b"
      },
      "execution_count": null,
      "outputs": [
        {
          "output_type": "execute_result",
          "data": {
            "text/plain": [
              "4"
            ]
          },
          "metadata": {},
          "execution_count": 15
        }
      ]
    },
    {
      "cell_type": "code",
      "execution_count": null,
      "metadata": {
        "colab": {
          "base_uri": "https://localhost:8080/"
        },
        "id": "BamvV0nVJMrm",
        "outputId": "ce04ea0f-e39d-46a5-8356-065ac2ad3aaf"
      },
      "outputs": [
        {
          "output_type": "execute_result",
          "data": {
            "text/plain": [
              "4"
            ]
          },
          "metadata": {},
          "execution_count": 1
        }
      ],
      "source": [
        "import numpy as np\n",
        "\n",
        "x = 3\n",
        "if 1 < x < 2:\n",
        "  y = 2\n",
        "elif 2 < x < 4:\n",
        "  y = 4\n",
        "else:\n",
        "  y = 0\n",
        "\n",
        "y\n"
      ]
    }
  ]
}