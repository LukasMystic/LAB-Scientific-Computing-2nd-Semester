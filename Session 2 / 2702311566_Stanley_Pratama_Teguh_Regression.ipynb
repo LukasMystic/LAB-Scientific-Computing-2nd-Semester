{
  "nbformat": 4,
  "nbformat_minor": 0,
  "metadata": {
    "colab": {
      "provenance": [],
      "authorship_tag": "ABX9TyPAS5eMeyyvvo0J5fmNX4k6",
      "include_colab_link": true
    },
    "kernelspec": {
      "name": "python3",
      "display_name": "Python 3"
    },
    "language_info": {
      "name": "python"
    }
  },
  "cells": [
    {
      "cell_type": "markdown",
      "metadata": {
        "id": "view-in-github",
        "colab_type": "text"
      },
      "source": [
        "<a href=\"https://colab.research.google.com/github/LukasMystic/LAB-Scientific-Computing-2nd-Semester/blob/main/Session%202%20/%202702311566_Stanley_Pratama_Teguh_Regression.ipynb\" target=\"_parent\"><img src=\"https://colab.research.google.com/assets/colab-badge.svg\" alt=\"Open In Colab\"/></a>"
      ]
    },
    {
      "cell_type": "code",
      "execution_count": 3,
      "metadata": {
        "colab": {
          "base_uri": "https://localhost:8080/"
        },
        "id": "a666JigTczlC",
        "outputId": "6379978a-3601-434a-ccd9-b3b8965dc43f"
      },
      "outputs": [
        {
          "output_type": "stream",
          "name": "stdout",
          "text": [
            "[[1.48183318]\n",
            " [0.99416129]]\n"
          ]
        },
        {
          "output_type": "stream",
          "name": "stderr",
          "text": [
            "<ipython-input-3-54570b735732>:4: MatplotlibDeprecationWarning: The seaborn styles shipped by Matplotlib are deprecated since 3.6, as they no longer correspond to the styles shipped by seaborn. However, they will remain available as 'seaborn-v0_8-<style>'. Alternatively, directly use the seaborn API instead.\n",
            "  plt.style.use('seaborn-poster')\n"
          ]
        }
      ],
      "source": [
        "import numpy as np\n",
        "from scipy import optimize\n",
        "import matplotlib.pyplot as plt\n",
        "plt.style.use('seaborn-poster')\n",
        "\n",
        "x = np.linspace(0, 1, 101)\n",
        "y = 1 + x + x * np.random.random(len(x))\n",
        "\n",
        "A = np.vstack([x, np.ones(len(x))]).T\n",
        "\n",
        "y = y[:, np.newaxis]\n",
        "\n",
        "alpha = np.dot((np.dot(np.linalg.inv(np.dot(A.T, A)), A.T)), y)\n",
        "print(alpha)"
      ]
    }
  ]
}